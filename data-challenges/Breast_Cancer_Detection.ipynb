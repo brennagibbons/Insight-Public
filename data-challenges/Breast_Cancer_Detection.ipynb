{
 "cells": [
  {
   "cell_type": "markdown",
   "metadata": {},
   "source": [
    "# Breast Cancer Detection Demo\n",
    "## Brenna Gibbons"
   ]
  },
  {
   "cell_type": "markdown",
   "metadata": {},
   "source": [
    "### The problem:\n",
    "Breast cancer detection is expensive both in terms of time and money. We'd like to reduce the number of tests required to accurately detect malignancy using a model based on past patients' data.\n",
    "\n",
    "### The data:\n",
    "A text file with 12 comma separated values: index, patient ID, 9 features, and a 'Class' which can be 2 for benign or 4 for malignant.\n",
    "\n",
    "### The approach:\n",
    "Prototype an iterative process for cancer detection, where more tests are conducted only if the previous tests were inconclusive. This system was built on a series of random forest classifiers but is robust to the insertion of other types of classifiers.\n",
    "\n",
    "This notebook presents a proof-of-concept that such an iterative process would yield similar results to doing the full model every time. The way I picture this working is that a physician or technician at a microscope would measure the first n features, input them into a dashboard, and recieve a real-time suggestion of whether or not to collect more data on this sample. More data would be collected only if the model's prediction on the first n features was inconclusive.\n",
    "\n",
    "### Results:\n",
    "Recall was chosen as the most relevant metric, as it is typically worse to miss a case of disease than to give a false positive (though obviously neither is ideal). The full model achieved a recall of 96.1% on cross validation and 95.8% on a holdout test set, while the iterative version also achieved a test set recall of 95.8% with a cost savings of more than 50%. Using the iterative system would save physicians time and effort with minimal if any loss of performance.\n",
    "***\n",
    "***"
   ]
  },
  {
   "cell_type": "markdown",
   "metadata": {},
   "source": [
    "#### Housekeeping"
   ]
  },
  {
   "cell_type": "code",
   "execution_count": 1,
   "metadata": {},
   "outputs": [],
   "source": [
    "import numpy as np\n",
    "import pandas as pd\n",
    "%matplotlib inline\n",
    "import matplotlib.pyplot as plt\n",
    "import matplotlib.cm as cm\n",
    "# from sklearn.model_selection import StratifiedShuffleSplit\n",
    "from sklearn.model_selection import StratifiedKFold\n",
    "from sklearn.model_selection import cross_val_score\n",
    "from sklearn.model_selection import cross_validate\n",
    "from sklearn.ensemble import RandomForestClassifier\n",
    "from sklearn.metrics import plot_confusion_matrix\n",
    "from sklearn.metrics import ConfusionMatrixDisplay\n",
    "from sklearn.metrics import confusion_matrix\n",
    "from sklearn.model_selection import train_test_split\n",
    "from sklearn.metrics import recall_score\n",
    "from sklearn.model_selection import GridSearchCV"
   ]
  },
  {
   "cell_type": "markdown",
   "metadata": {},
   "source": [
    "### Import data"
   ]
  },
  {
   "cell_type": "code",
   "execution_count": 4,
   "metadata": {},
   "outputs": [
    {
     "data": {
      "text/html": [
       "<div>\n",
       "<style scoped>\n",
       "    .dataframe tbody tr th:only-of-type {\n",
       "        vertical-align: middle;\n",
       "    }\n",
       "\n",
       "    .dataframe tbody tr th {\n",
       "        vertical-align: top;\n",
       "    }\n",
       "\n",
       "    .dataframe thead th {\n",
       "        text-align: right;\n",
       "    }\n",
       "</style>\n",
       "<table border=\"1\" class=\"dataframe\">\n",
       "  <thead>\n",
       "    <tr style=\"text-align: right;\">\n",
       "      <th></th>\n",
       "      <th>Index</th>\n",
       "      <th>ID</th>\n",
       "      <th>Clump Thickness</th>\n",
       "      <th>Uniformity of Cell Size</th>\n",
       "      <th>Uniformity of Cell Shape</th>\n",
       "      <th>Marginal Adhesion</th>\n",
       "      <th>Single Epithelial Cell Size</th>\n",
       "      <th>Bare Nuclei</th>\n",
       "      <th>Bland Chromatin</th>\n",
       "      <th>Normal Nucleoli</th>\n",
       "      <th>Mitoses</th>\n",
       "      <th>Class</th>\n",
       "    </tr>\n",
       "  </thead>\n",
       "  <tbody>\n",
       "    <tr>\n",
       "      <th>0</th>\n",
       "      <td>0</td>\n",
       "      <td>1241035</td>\n",
       "      <td>7</td>\n",
       "      <td>8</td>\n",
       "      <td>3</td>\n",
       "      <td>7</td>\n",
       "      <td>4</td>\n",
       "      <td>5</td>\n",
       "      <td>7</td>\n",
       "      <td>8</td>\n",
       "      <td>2</td>\n",
       "      <td>4</td>\n",
       "    </tr>\n",
       "    <tr>\n",
       "      <th>1</th>\n",
       "      <td>1</td>\n",
       "      <td>1107684</td>\n",
       "      <td>6</td>\n",
       "      <td>10</td>\n",
       "      <td>5</td>\n",
       "      <td>5</td>\n",
       "      <td>4</td>\n",
       "      <td>10</td>\n",
       "      <td>6</td>\n",
       "      <td>10</td>\n",
       "      <td>1</td>\n",
       "      <td>4</td>\n",
       "    </tr>\n",
       "    <tr>\n",
       "      <th>2</th>\n",
       "      <td>2</td>\n",
       "      <td>691628</td>\n",
       "      <td>8</td>\n",
       "      <td>6</td>\n",
       "      <td>4</td>\n",
       "      <td>10</td>\n",
       "      <td>10</td>\n",
       "      <td>1</td>\n",
       "      <td>3</td>\n",
       "      <td>5</td>\n",
       "      <td>1</td>\n",
       "      <td>4</td>\n",
       "    </tr>\n",
       "    <tr>\n",
       "      <th>3</th>\n",
       "      <td>3</td>\n",
       "      <td>1226612</td>\n",
       "      <td>7</td>\n",
       "      <td>5</td>\n",
       "      <td>6</td>\n",
       "      <td>3</td>\n",
       "      <td>3</td>\n",
       "      <td>8</td>\n",
       "      <td>7</td>\n",
       "      <td>4</td>\n",
       "      <td>1</td>\n",
       "      <td>4</td>\n",
       "    </tr>\n",
       "    <tr>\n",
       "      <th>4</th>\n",
       "      <td>4</td>\n",
       "      <td>1142706</td>\n",
       "      <td>5</td>\n",
       "      <td>10</td>\n",
       "      <td>10</td>\n",
       "      <td>10</td>\n",
       "      <td>6</td>\n",
       "      <td>10</td>\n",
       "      <td>6</td>\n",
       "      <td>5</td>\n",
       "      <td>2</td>\n",
       "      <td>4</td>\n",
       "    </tr>\n",
       "  </tbody>\n",
       "</table>\n",
       "</div>"
      ],
      "text/plain": [
       "   Index       ID  Clump Thickness Uniformity of Cell Size  \\\n",
       "0      0  1241035                7                       8   \n",
       "1      1  1107684                6                      10   \n",
       "2      2   691628                8                       6   \n",
       "3      3  1226612                7                       5   \n",
       "4      4  1142706                5                      10   \n",
       "\n",
       "  Uniformity of Cell Shape Marginal Adhesion Single Epithelial Cell Size  \\\n",
       "0                        3                 7                           4   \n",
       "1                        5                 5                           4   \n",
       "2                        4                10                          10   \n",
       "3                        6                 3                           3   \n",
       "4                       10                10                           6   \n",
       "\n",
       "  Bare Nuclei Bland Chromatin Normal Nucleoli Mitoses Class  \n",
       "0           5               7               8       2     4  \n",
       "1          10               6              10       1     4  \n",
       "2           1               3               5       1     4  \n",
       "3           8               7               4       1     4  \n",
       "4          10               6               5       2     4  "
      ]
     },
     "execution_count": 4,
     "metadata": {},
     "output_type": "execute_result"
    }
   ],
   "source": [
    "# import and peek at data\n",
    "data_str = pd.read_csv('breast-cancer-wisconsin.txt')\n",
    "data_str.head()"
   ]
  },
  {
   "cell_type": "markdown",
   "metadata": {},
   "source": [
    "#### Data cleanup: \n",
    "Convert to numbers, remove any rows containing non-numbers (e.g. a cell size of 'no idea'), and remove any classes that aren't 2 or 4. We'll also convert the class labels to binary 0 or 1.\n",
    "In addition, we'll remove duplicate lines (every column in each row must be identical, not just ID)."
   ]
  },
  {
   "cell_type": "code",
   "execution_count": 5,
   "metadata": {},
   "outputs": [
    {
     "name": "stdout",
     "output_type": "stream",
     "text": [
      "Found 95 rows with non-number values. \n",
      " Removing them from data. To get ID values: print(nan_ids)\n",
      "Removing 156 rows with a Class value not equal to 2 or 4.\n",
      "Duplicates removed\n"
     ]
    }
   ],
   "source": [
    "# convert to numbers\n",
    "data = data_str.apply(lambda x: pd.to_numeric(x, errors = 'coerce'))\n",
    "\n",
    "# get indices of all rows with NaN\n",
    "nans = np.unique(np.where(np.isnan(data))[0])\n",
    "nan_ids = data['ID'][nans]\n",
    "print(\"Found {} rows with non-number values. \\n \\\n",
    "Removing them from data. To get ID values: print(nan_ids)\".format(len(nan_ids)))\n",
    "\n",
    "# now remove all rows with NaN\n",
    "data.dropna(axis = 0, how = 'any', inplace = True)\n",
    "data.drop(columns='Index', inplace = True)\n",
    "\n",
    "# remove rows with bad class values\n",
    "bad_class = data[(data['Class'] != 2) & (data['Class'] != 4)]\n",
    "len(bad_class)\n",
    "print('Removing {} rows with a Class value not equal to 2 or 4.'.format(len(bad_class)))\n",
    "data.drop(bad_class.index, inplace = True)\n",
    "\n",
    "# replace 2 and 4 with 0 and 1 where 0 = benign and 1 = malignant\n",
    "data.loc[data['Class'] == 2, 'Class'] = 0\n",
    "data.loc[data['Class'] == 4, 'Class'] = 1\n",
    "\n",
    "# drop duplicates\n",
    "data = data.drop_duplicates(inplace=False)\n",
    "print('Duplicates removed')"
   ]
  },
  {
   "cell_type": "code",
   "execution_count": null,
   "metadata": {},
   "outputs": [],
   "source": []
  },
  {
   "cell_type": "markdown",
   "metadata": {},
   "source": [
    "### Data Exploration"
   ]
  },
  {
   "cell_type": "code",
   "execution_count": 6,
   "metadata": {},
   "outputs": [
    {
     "name": "stdout",
     "output_type": "stream",
     "text": [
      "This dataset contains 437 benign and 235 malignant samples.\n"
     ]
    },
    {
     "data": {
      "image/png": "[encoded data removed]",
      "text/plain": [
       "<Figure size 432x288 with 1 Axes>"
      ]
     },
     "metadata": {},
     "output_type": "display_data"
    }
   ],
   "source": [
    "# Look at the relative sizes of the classes\n",
    "num_benign = len(data[data['Class'] == 0])\n",
    "num_mal = len(data[data['Class'] == 1])\n",
    "total = len(data)\n",
    "print('This dataset contains {} benign and {} malignant samples.'.format(num_benign, num_mal))\n",
    "pieplot = plt.pie([num_benign/total,num_mal/total],labels = ['benign','malignant'])"
   ]
  },
  {
   "cell_type": "markdown",
   "metadata": {},
   "source": [
    "Because the data is somewhat imbalanced, we'll have to be careful from here on out."
   ]
  },
  {
   "cell_type": "markdown",
   "metadata": {},
   "source": [
    "### Feature exploration\n",
    "To answer the question of which features of the cell are the largest drivers of malignancy, we'll look at the Pearson correlation of each input feature with the resulting diagnosis:"
   ]
  },
  {
   "cell_type": "code",
   "execution_count": 7,
   "metadata": {},
   "outputs": [
    {
     "name": "stdout",
     "output_type": "stream",
     "text": [
      "Pearson Correlations with diagnosis:\n",
      "Uniformity of Cell Size        0.820048\n",
      "Bare Nuclei                    0.819718\n",
      "Bland Chromatin                0.757816\n",
      "Clump Thickness                0.715084\n",
      "Uniformity of Cell Shape       0.820085\n",
      "Marginal Adhesion              0.709798\n",
      "Single Epithelial Cell Size    0.688764\n",
      "Mitoses                        0.425387\n",
      "Normal Nucleoli                0.720845\n",
      "Name: Class, dtype: float64\n"
     ]
    },
    {
     "data": {
      "image/png": "[encoded data removed]",
      "text/plain": [
       "<Figure size 432x288 with 1 Axes>"
      ]
     },
     "metadata": {
      "needs_background": "light"
     },
     "output_type": "display_data"
    }
   ],
   "source": [
    "# compute correlations\n",
    "class_corr = data.corr(method = 'pearson')['Class']\n",
    "# drop ID, Class columns\n",
    "class_corr = class_corr.drop(index=['Class','ID'])\n",
    "class_corr_idx = np.argsort(np.abs(class_corr))\n",
    "print('Pearson Correlations with diagnosis:')\n",
    "print(class_corr.iloc[-class_corr_idx])\n",
    "\n",
    "# and plot\n",
    "plt.title('Pearson Correlations')\n",
    "plt.barh(range(len(class_corr_idx)), class_corr[class_corr_idx], color='b', align='center')\n",
    "plt.yticks(range(len(class_corr_idx)), [class_corr.index[i] for i in class_corr_idx])\n",
    "plt.xlabel('Correlation with Class')\n",
    "plt.show()"
   ]
  },
  {
   "cell_type": "markdown",
   "metadata": {},
   "source": [
    "Let's look closer at the most correlated feature to see if we could just diagnose based on it alone:"
   ]
  },
  {
   "cell_type": "code",
   "execution_count": 8,
   "metadata": {},
   "outputs": [
    {
     "data": {
      "text/plain": [
       "Text(0, 0.5, 'Proportion of cases which are malignant')"
      ]
     },
     "execution_count": 8,
     "metadata": {},
     "output_type": "execute_result"
    },
    {
     "data": {
      "image/png": "[encoded data removed]",
      "text/plain": [
       "<Figure size 432x288 with 1 Axes>"
      ]
     },
     "metadata": {
      "needs_background": "light"
     },
     "output_type": "display_data"
    }
   ],
   "source": [
    "# quick and dirty correlation exploration:\n",
    "x = [l+1 for l in range(10)]\n",
    "y = []\n",
    "total = len(data)\n",
    "for i in range(10):\n",
    "    num_pos = len(data.index[(data['Uniformity of Cell Size'] == i+1) &(data['Class'] == 1)])\n",
    "    num_tot = len(data.index[(data['Uniformity of Cell Size'] == i+1)])\n",
    "    y.append(num_pos/num_tot)\n",
    "\n",
    "u_size = plt.plot(x,y)\n",
    "z = np.polyfit(x, y, 1)\n",
    "p = np.poly1d(z)\n",
    "plt.plot(x,p(x),\"r--\")\n",
    "plt.xlabel('Uniformity of Cell Size')\n",
    "plt.ylabel('Proportion of cases which are malignant')"
   ]
  },
  {
   "cell_type": "markdown",
   "metadata": {},
   "source": [
    "## Analysis\n",
    "Let's compare the base model and the iterative one. We'll start with the base model.\n",
    "\n",
    "First some housekeeping: split the data into test/train and set up metrics and a cross-validation splitter, all keeping in mind the unbalanced classes."
   ]
  },
  {
   "cell_type": "code",
   "execution_count": 9,
   "metadata": {},
   "outputs": [],
   "source": [
    "# set up which columns will be features\n",
    "data.columns\n",
    "input_cols = ['Clump Thickness', 'Uniformity of Cell Size',\n",
    "       'Uniformity of Cell Shape', 'Marginal Adhesion',\n",
    "       'Single Epithelial Cell Size', 'Bare Nuclei', 'Bland Chromatin',\n",
    "       'Normal Nucleoli', 'Mitoses']\n",
    "\n",
    "# double check column names are all there and correct\n",
    "if not (x in data.columns for x in input_cols):\n",
    "    print(\"Column names don't match, this is not going to work!\")"
   ]
  },
  {
   "cell_type": "code",
   "execution_count": 16,
   "metadata": {},
   "outputs": [],
   "source": [
    "# split the data into test and train, keeping proportion of \"benign\" equal\n",
    "# split off true test set with class distribution equal to original\n",
    "X_all = data[input_cols]\n",
    "y_all = data['Class']\n",
    "X, X_test, y, y_test = train_test_split(X_all, y_all, \n",
    "                                        test_size=0.1,\n",
    "                                        random_state=6,\n",
    "                                        stratify=y_all, # use class labels to stratify\n",
    "                                        shuffle=True)\n",
    "\n",
    "# set up \n",
    "metrics = ['f1','f1_weighted','recall','recall_weighted','neg_log_loss','roc_auc']\n",
    "splitter = StratifiedKFold(n_splits=5, random_state = 6, shuffle=True)"
   ]
  },
  {
   "cell_type": "markdown",
   "metadata": {},
   "source": [
    "#### Base Model: Random Forest"
   ]
  },
  {
   "cell_type": "code",
   "execution_count": 17,
   "metadata": {},
   "outputs": [
    {
     "data": {
      "text/plain": [
       "{'fit_time': 0.08330078125,\n",
       " 'score_time': 0.0237123966217041,\n",
       " 'test_f1': 0.957188359348725,\n",
       " 'test_f1_weighted': 0.9701558962558503,\n",
       " 'test_recall': 0.9619047619047618,\n",
       " 'test_recall_weighted': 0.9701515151515151,\n",
       " 'test_neg_log_loss': -0.14702291810958967,\n",
       " 'test_roc_auc': 0.9912702276626326}"
      ]
     },
     "execution_count": 17,
     "metadata": {},
     "output_type": "execute_result"
    }
   ],
   "source": [
    "# remember that the classes are imbalanced, so we'll weight them\n",
    "clf = RandomForestClassifier(n_estimators = 100,class_weight='balanced')\n",
    "# cross validation\n",
    "cv_results = cross_validate(clf, X, y, \n",
    "                            cv=splitter, \n",
    "                            return_train_score=False, \n",
    "                            scoring=metrics)\n",
    "cv_means = {k: np.mean(v) for k,v in cv_results.items()}\n",
    "cv_means"
   ]
  },
  {
   "cell_type": "markdown",
   "metadata": {},
   "source": [
    "#### Validation: \n",
    "Recall of 96.1% is pretty good! Let's try the true test set:"
   ]
  },
  {
   "cell_type": "code",
   "execution_count": 39,
   "metadata": {},
   "outputs": [
    {
     "name": "stdout",
     "output_type": "stream",
     "text": [
      "Holdout Test Set Recall = 95.83%\n"
     ]
    }
   ],
   "source": [
    "# fit to all training data\n",
    "clf.fit(X,y)\n",
    "y_pred = clf.predict(X_test)\n",
    "# test\n",
    "rf_recall = recall_score(y_test,y_pred)\n",
    "print('Holdout Test Set Recall = {:0.2f}%'.format(rf_recall*100))"
   ]
  },
  {
   "cell_type": "markdown",
   "metadata": {},
   "source": [
    "Let's plot the confusion matrix to get more specifics:"
   ]
  },
  {
   "cell_type": "code",
   "execution_count": 19,
   "metadata": {},
   "outputs": [
    {
     "data": {
      "text/plain": [
       "<sklearn.metrics._plot.confusion_matrix.ConfusionMatrixDisplay at 0x1a18169cc0>"
      ]
     },
     "execution_count": 19,
     "metadata": {},
     "output_type": "execute_result"
    },
    {
     "data": {
      "image/png": "[encoded data removed]",
      "text/plain": [
       "<Figure size 432x288 with 2 Axes>"
      ]
     },
     "metadata": {
      "needs_background": "light"
     },
     "output_type": "display_data"
    }
   ],
   "source": [
    "# plot confusion matrix on test set\n",
    "plot_confusion_matrix(clf,X_test,y_test)"
   ]
  },
  {
   "cell_type": "markdown",
   "metadata": {},
   "source": [
    "Only 1 false negative!"
   ]
  },
  {
   "cell_type": "markdown",
   "metadata": {},
   "source": [
    "#### Feature Importance\n",
    "As a sanity check, we'll compare the feature importance here to the correlations above. It's pretty similar!"
   ]
  },
  {
   "cell_type": "code",
   "execution_count": 20,
   "metadata": {},
   "outputs": [
    {
     "data": {
      "image/png": "[encoded data removed]",
      "text/plain": [
       "<Figure size 432x288 with 1 Axes>"
      ]
     },
     "metadata": {
      "needs_background": "light"
     },
     "output_type": "display_data"
    }
   ],
   "source": [
    "# get importances\n",
    "importances = clf.feature_importances_\n",
    "imp_indices = np.argsort(importances)\n",
    "# and plot\n",
    "plt.title('Feature Importances')\n",
    "plt.barh(range(len(imp_indices)), importances[imp_indices], color='b', align='center')\n",
    "plt.yticks(range(len(imp_indices)), [input_cols[i] for i in imp_indices])\n",
    "plt.xlabel('Relative Importance')\n",
    "plt.show()"
   ]
  },
  {
   "cell_type": "markdown",
   "metadata": {},
   "source": [
    "#### Most informative features\n",
    "The fact that the top 3 features from the random forest are also the top 3 features from the Pearson correlation isn't surprising, but it does add confidence that these features are in fact the most predictive for breast cancer detection."
   ]
  },
  {
   "cell_type": "markdown",
   "metadata": {},
   "source": [
    "### Iterative Testing\n",
    "Now we'll set up the system for doing further tests only if the first ones are unsure. For this example, we'll assume each test on each sample costs $1.\n",
    "\n",
    "In practice, this would be a dashboard where the physician could enter the test values, get a prediction for how likely this sample is to be malignant or not, and use that to decide to do more tests and feed those back into a more sophisticated model."
   ]
  },
  {
   "cell_type": "code",
   "execution_count": 28,
   "metadata": {},
   "outputs": [],
   "source": [
    "def progressive_predict(classifiers, test_data, epsilon = 0.1):\n",
    "    \"\"\"\n",
    "    Predict malignant/benign given input data, and calculate number of tests required\n",
    "    Parameters:\n",
    "    classifiers (list) : progressively more costly classifiers (must be in order)\n",
    "                         must be of form (clf, [features])\n",
    "    test_data (dataframe) : must contain 'Class' = 0 or 1, \n",
    "                            and feature columns: 'Clump Thickness','Uniformity of Cell Size',\n",
    "                                                 'Uniformity of Cell Shape','Marginal Adhesion',\n",
    "                                                 'Single Epithelial Cell Size','Bare Nuclei',\n",
    "                                                 'Bland Chromatin','Normal Nucleoli','Mitoses'\n",
    "    Returns:\n",
    "    predictions : benign/malignant for test_data\n",
    "    cost: number of tests that had to be performed\n",
    "    \"\"\"\n",
    "    # at the beginning, all are schrodinger's cat\n",
    "    dunnos = np.ones_like(test_data['Mitoses'])*0.5\n",
    "    preds = pd.DataFrame({'Prediction':dunnos}, index = test_data.index)\n",
    "    num_tests = 0\n",
    "    prev_features = 0\n",
    "    \n",
    "    # loop through each progressively heavier classifier\n",
    "    for clf, features in classifiers:\n",
    "        # get unsure values\n",
    "        unsure_idx = preds.index[(preds['Prediction'] > epsilon) & (preds['Prediction'] < 1-epsilon)]\n",
    "        print('{} unsure'.format(len(unsure_idx)))\n",
    "        # print(features)\n",
    "        # make predictions only on unsure\n",
    "        probs = clf.predict_proba(test_data[features].loc[unsure_idx])\n",
    "        # store in outer dataframe\n",
    "        preds['Prediction'].loc[unsure_idx] = probs[:,1]\n",
    "        \n",
    "        # add cost = number of features(tests) * number of new predictions\n",
    "        new_tests = (len(features)-prev_features) * len(unsure_idx)\n",
    "        print('{} new tests'.format(new_tests))\n",
    "        num_tests += new_tests\n",
    "        prev_features = len(features)\n",
    "    \n",
    "    return preds, num_tests"
   ]
  },
  {
   "cell_type": "markdown",
   "metadata": {},
   "source": [
    "Set up our series of models:"
   ]
  },
  {
   "cell_type": "code",
   "execution_count": 44,
   "metadata": {},
   "outputs": [],
   "source": [
    "# set up random forest series of classifiers\n",
    "# least strict (first 3 features)\n",
    "features1 = ['Uniformity of Cell Size','Uniformity of Cell Shape','Bare Nuclei']\n",
    "# print(features1)\n",
    "rf_clf1 = RandomForestClassifier(n_estimators = 100,class_weight='balanced')\n",
    "rf_clf1.fit(X[features1],y)\n",
    "rf1_recall = recall_score(y_test,rf_clf1.predict(X_test[features1]))\n",
    "# print('Recall using 3 features = {:0.2f}%'.format(rf1_recall*100))\n",
    "\n",
    "# next strictest\n",
    "features2 = features1 + ['Single Epithelial Cell Size','Clump Thickness','Marginal Adhesion']\n",
    "# print(features2)\n",
    "rf_clf2 = RandomForestClassifier(n_estimators = 100,class_weight='balanced')\n",
    "rf_clf2.fit(X[features2],y)\n",
    "rf2_recall = recall_score(y_test,rf_clf2.predict(X_test[features2]))\n",
    "# print('Recall using 6 features = {:0.2f}%'.format(rf2_recall*100))\n",
    "\n",
    "# strictest\n",
    "features3 = features2 + ['Normal Nucleoli','Bland Chromatin','Mitoses']\n",
    "# print(features3)\n",
    "rf_clf3 = RandomForestClassifier(n_estimators = 100,class_weight='balanced')\n",
    "rf_clf3.fit(X[features3],y)\n",
    "rf3_recall = recall_score(y_test,rf_clf3.predict(X_test[features3]))\n",
    "# print('Recall using 9 features = {:0.2f}%'.format(rf3_recall*100))\n",
    "\n",
    "# list them:\n",
    "classifiers = [(rf_clf1,features1),(rf_clf2,features2),(rf_clf3,features3)]"
   ]
  },
  {
   "cell_type": "markdown",
   "metadata": {},
   "source": [
    "Now to calculate the final predictions using this system and calculate the number of tests required, using the holdout test set:"
   ]
  },
  {
   "cell_type": "code",
   "execution_count": 29,
   "metadata": {},
   "outputs": [
    {
     "name": "stdout",
     "output_type": "stream",
     "text": [
      "68 unsure\n",
      "204 new tests\n",
      "17 unsure\n",
      "51 new tests\n",
      "12 unsure\n",
      "36 new tests\n"
     ]
    }
   ],
   "source": [
    "ps,cost = progressive_predict(classifiers, X_test, epsilon = 0.01)"
   ]
  },
  {
   "cell_type": "markdown",
   "metadata": {},
   "source": [
    "#### Validation: \n",
    "We'll look at both recall and cost"
   ]
  },
  {
   "cell_type": "code",
   "execution_count": 38,
   "metadata": {},
   "outputs": [
    {
     "name": "stdout",
     "output_type": "stream",
     "text": [
      "Holdout Test Set Recall = 95.83%\n"
     ]
    }
   ],
   "source": [
    "# to fudge the threshold, do ps + epsilon\n",
    "pclasses = round(ps)\n",
    "it_recall = recall_score(y_test,pclasses)\n",
    "print('Holdout Test Set Recall = {:0.2f}%'.format(it_recall*100))"
   ]
  },
  {
   "cell_type": "markdown",
   "metadata": {},
   "source": [
    "Recall of 95.8% !"
   ]
  },
  {
   "cell_type": "code",
   "execution_count": 31,
   "metadata": {},
   "outputs": [
    {
     "data": {
      "image/png": "[encoded data removed]",
      "text/plain": [
       "<Figure size 432x288 with 2 Axes>"
      ]
     },
     "metadata": {
      "needs_background": "light"
     },
     "output_type": "display_data"
    }
   ],
   "source": [
    "# plot confusion matrix\n",
    "cm = confusion_matrix(y_test,pclasses)\n",
    "disp = ConfusionMatrixDisplay(confusion_matrix=cm,display_labels=['benign','malignant'])\n",
    "disp = disp.plot()"
   ]
  },
  {
   "cell_type": "markdown",
   "metadata": {},
   "source": [
    "Now compare the performance and costs:"
   ]
  },
  {
   "cell_type": "code",
   "execution_count": 45,
   "metadata": {},
   "outputs": [
    {
     "data": {
      "text/plain": [
       "(0.8, 1)"
      ]
     },
     "execution_count": 45,
     "metadata": {},
     "output_type": "execute_result"
    },
    {
     "data": {
      "image/png": "[encoded data removed]",
      "text/plain": [
       "<Figure size 432x288 with 1 Axes>"
      ]
     },
     "metadata": {
      "needs_background": "light"
     },
     "output_type": "display_data"
    }
   ],
   "source": [
    "# compare recall scores\n",
    "cost_plot = plt.bar(x = [1,2],height=[rf_recall,it_recall],tick_label = ['full model','iterative model'])\n",
    "plt.ylabel('Recall score')\n",
    "plt.ylim(0.8,1)"
   ]
  },
  {
   "cell_type": "code",
   "execution_count": 46,
   "metadata": {},
   "outputs": [
    {
     "name": "stdout",
     "output_type": "stream",
     "text": [
      "Cost savings: 52.5%\n"
     ]
    },
    {
     "data": {
      "image/png": "[encoded data removed]",
      "text/plain": [
       "<Figure size 432x288 with 1 Axes>"
      ]
     },
     "metadata": {
      "needs_background": "light"
     },
     "output_type": "display_data"
    }
   ],
   "source": [
    "full_cost = len(y_test)*len(input_cols)\n",
    "cost_plot = plt.bar(x = [1,2],height=[full_cost,cost],tick_label = ['full cost','iterative cost'])\n",
    "plt.ylabel('Cost assuming every test is $1')\n",
    "print('Cost savings: {:.1f}%'.format(100*(full_cost-cost)/full_cost))"
   ]
  },
  {
   "cell_type": "markdown",
   "metadata": {},
   "source": [
    "## Results\n",
    "\n",
    "Takeaways: The original and iterative models were nearly identical in their performance, with recall rates of 90+%. However, the iterative model cost approximately 50% less than the original model would. Using the iterative model would save not only cost but physician's valuable time - with this model they can devote more time to cases that are more difficult to diagnose or to actually treating patients.\n",
    "\n",
    "Furthermore, the iterative model can be used with other classifiers and with more granular control. Optimizing the models further through hyperparameter tuning, etc, would be an excellent future direction."
   ]
  },
  {
   "cell_type": "code",
   "execution_count": null,
   "metadata": {},
   "outputs": [],
   "source": []
  },
  {
   "cell_type": "code",
   "execution_count": null,
   "metadata": {},
   "outputs": [],
   "source": []
  },
  {
   "cell_type": "markdown",
   "metadata": {},
   "source": [
    "## Appendix"
   ]
  },
  {
   "cell_type": "code",
   "execution_count": 76,
   "metadata": {},
   "outputs": [
    {
     "data": {
      "image/png": "[encoded data removed]",
      "text/plain": [
       "<Figure size 1200x800 with 9 Axes>"
      ]
     },
     "metadata": {
      "needs_background": "light"
     },
     "output_type": "display_data"
    },
    {
     "data": {
      "text/plain": [
       "<Figure size 2400x1600 with 0 Axes>"
      ]
     },
     "metadata": {},
     "output_type": "display_data"
    }
   ],
   "source": [
    "# define columns that are inputs instead of classes\n",
    "input_cols = ['Clump Thickness', 'Uniformity of Cell Size',\n",
    "       'Uniformity of Cell Shape', 'Marginal Adhesion',\n",
    "       'Single Epithelial Cell Size', 'Bare Nuclei', 'Bland Chromatin',\n",
    "       'Normal Nucleoli', 'Mitoses']\n",
    "\n",
    "# double check column names are all there and correct\n",
    "if not (x in data.columns for x in input_cols):\n",
    "    print(\"Column names don't match, this is not going to work!\")\n",
    "    \n",
    "# plot histograms\n",
    "plt.rcParams['figure.dpi'] = 200\n",
    "for num, colname in enumerate(input_cols):\n",
    "    plt.subplot(3, 3, num+1)\n",
    "    plt.hist((data[data['Class'] == 0][colname], data[data['Class'] == 1][colname]), bins=10, label=['benign', 'malignant'])\n",
    "#     plt.legend(loc='upper center', bbox_to_anchor=(0.5, -0.05),ncol=2)\n",
    "    plt.title(colname)\n",
    "plt.legend(loc='upper center', bbox_to_anchor=(0.5, -0.05),ncol=2)\n",
    "plt.tight_layout(pad=0.4, w_pad=0.5, h_pad=0)\n",
    "plt.figure(figsize=(12,8))\n",
    "plt.show()"
   ]
  },
  {
   "cell_type": "code",
   "execution_count": null,
   "metadata": {},
   "outputs": [],
   "source": []
  },
  {
   "cell_type": "markdown",
   "metadata": {},
   "source": [
    "### MLP\n",
    "MultiLayerPerceptron works just as well, it's just a little harder to interpret:"
   ]
  },
  {
   "cell_type": "code",
   "execution_count": 34,
   "metadata": {},
   "outputs": [
    {
     "name": "stderr",
     "output_type": "stream",
     "text": [
      "/anaconda3/lib/python3.7/site-packages/sklearn/neural_network/_multilayer_perceptron.py:571: ConvergenceWarning: Stochastic Optimizer: Maximum iterations (200) reached and the optimization hasn't converged yet.\n",
      "  % self.max_iter, ConvergenceWarning)\n",
      "/anaconda3/lib/python3.7/site-packages/sklearn/neural_network/_multilayer_perceptron.py:571: ConvergenceWarning: Stochastic Optimizer: Maximum iterations (200) reached and the optimization hasn't converged yet.\n",
      "  % self.max_iter, ConvergenceWarning)\n",
      "/anaconda3/lib/python3.7/site-packages/sklearn/neural_network/_multilayer_perceptron.py:571: ConvergenceWarning: Stochastic Optimizer: Maximum iterations (200) reached and the optimization hasn't converged yet.\n",
      "  % self.max_iter, ConvergenceWarning)\n",
      "/anaconda3/lib/python3.7/site-packages/sklearn/neural_network/_multilayer_perceptron.py:571: ConvergenceWarning: Stochastic Optimizer: Maximum iterations (200) reached and the optimization hasn't converged yet.\n",
      "  % self.max_iter, ConvergenceWarning)\n",
      "/anaconda3/lib/python3.7/site-packages/sklearn/neural_network/_multilayer_perceptron.py:571: ConvergenceWarning: Stochastic Optimizer: Maximum iterations (200) reached and the optimization hasn't converged yet.\n",
      "  % self.max_iter, ConvergenceWarning)\n"
     ]
    },
    {
     "data": {
      "text/plain": [
       "{'fit_time': 0.6652781963348389,\n",
       " 'score_time': 0.010382366180419923,\n",
       " 'test_f1': 0.9526435554369224,\n",
       " 'test_f1_weighted': 0.9668698377784587,\n",
       " 'test_recall': 0.9573643410852715,\n",
       " 'test_recall_weighted': 0.9668595041322314,\n",
       " 'test_neg_log_loss': -0.0904245763862684,\n",
       " 'test_roc_auc': 0.9947355330045939}"
      ]
     },
     "execution_count": 34,
     "metadata": {},
     "output_type": "execute_result"
    }
   ],
   "source": [
    "from sklearn.neural_network import MLPClassifier\n",
    "\n",
    "mlp_clf = MLPClassifier(hidden_layer_sizes = 200)\n",
    "# cross validation using recall\n",
    "cv_results = cross_validate(mlp_clf, X, y, \n",
    "                            cv=splitter, \n",
    "                            return_train_score=False, \n",
    "                            scoring=metrics)\n",
    "cv_means = {k: np.mean(v) for k,v in cv_results.items()}\n",
    "cv_means"
   ]
  },
  {
   "cell_type": "code",
   "execution_count": 35,
   "metadata": {},
   "outputs": [
    {
     "name": "stdout",
     "output_type": "stream",
     "text": [
      "0.92\n"
     ]
    },
    {
     "name": "stderr",
     "output_type": "stream",
     "text": [
      "/anaconda3/lib/python3.7/site-packages/sklearn/neural_network/_multilayer_perceptron.py:571: ConvergenceWarning: Stochastic Optimizer: Maximum iterations (200) reached and the optimization hasn't converged yet.\n",
      "  % self.max_iter, ConvergenceWarning)\n"
     ]
    },
    {
     "data": {
      "text/plain": [
       "<sklearn.metrics._plot.confusion_matrix.ConfusionMatrixDisplay at 0x1a18cefc18>"
      ]
     },
     "execution_count": 35,
     "metadata": {},
     "output_type": "execute_result"
    },
    {
     "data": {
      "image/png": "[encoded data removed]",
      "text/plain": [
       "<Figure size 432x288 with 2 Axes>"
      ]
     },
     "metadata": {
      "needs_background": "light"
     },
     "output_type": "display_data"
    }
   ],
   "source": [
    "# try holdout test set\n",
    "mlp_clf.fit(X,y)\n",
    "y_pred = mlp_clf.predict(X_test)\n",
    "mlp_recall = recall_score(y_pred,y_test)\n",
    "print(mlp_recall)\n",
    "\n",
    "# plot confusion matrix on test set\n",
    "plot_confusion_matrix(mlp_clf,X_test,y_test)"
   ]
  },
  {
   "cell_type": "markdown",
   "metadata": {},
   "source": [
    "### Hyperparameter tuning\n",
    "Use log-loss for scoring to minimize confident wrong predictions"
   ]
  },
  {
   "cell_type": "code",
   "execution_count": 36,
   "metadata": {},
   "outputs": [
    {
     "data": {
      "text/plain": [
       "<matplotlib.legend.Legend at 0x1a189c7390>"
      ]
     },
     "execution_count": 36,
     "metadata": {},
     "output_type": "execute_result"
    },
    {
     "data": {
      "image/png": "[encoded data removed]",
      "text/plain": [
       "<Figure size 432x288 with 1 Axes>"
      ]
     },
     "metadata": {
      "needs_background": "light"
     },
     "output_type": "display_data"
    }
   ],
   "source": [
    "parameters = {'max_depth':(None, 5,10,15,20,25)}\n",
    "\n",
    "# set up grid search\n",
    "tuner = GridSearchCV(clf, parameters, \n",
    "                     scoring = 'neg_log_loss',\n",
    "                     return_train_score = True, \n",
    "                     cv = splitter)\n",
    "tuner.fit(X,y)\n",
    "# show results\n",
    "tuner_results = pd.DataFrame(tuner.cv_results_)\n",
    "tuner_results.head()\n",
    "\n",
    "# and plot\n",
    "plt.semilogy([0,5,10,15,20,25], -1*tuner_results['mean_test_score'],label = 'test')\n",
    "plt.semilogy([0,5,10,15,20,25], -1*tuner_results['mean_train_score'],label = 'train')\n",
    "plt.legend()"
   ]
  },
  {
   "cell_type": "code",
   "execution_count": null,
   "metadata": {},
   "outputs": [],
   "source": []
  }
 ],
 "metadata": {
  "kernelspec": {
   "display_name": "Python 3",
   "language": "python",
   "name": "python3"
  },
  "language_info": {
   "codemirror_mode": {
    "name": "ipython",
    "version": 3
   },
   "file_extension": ".py",
   "mimetype": "text/x-python",
   "name": "python",
   "nbconvert_exporter": "python",
   "pygments_lexer": "ipython3",
   "version": "3.7.3"
  }
 },
 "nbformat": 4,
 "nbformat_minor": 2
}
